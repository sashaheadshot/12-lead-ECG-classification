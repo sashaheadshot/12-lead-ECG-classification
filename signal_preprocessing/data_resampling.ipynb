{
 "cells": [
  {
   "cell_type": "code",
   "execution_count": 1,
   "id": "a6ab3a08-196c-4268-abc8-6c65fdb6dc08",
   "metadata": {},
   "outputs": [],
   "source": [
    "import os\n",
    "from scipy.signal import resample\n",
    "from tqdm import tqdm\n",
    "import neurokit2 as nk\n",
    "import numpy as np\n",
    "import scipy.io\n",
    "import neurokit2 as nk"
   ]
  },
  {
   "cell_type": "code",
   "execution_count": 3,
   "id": "ad68ba67-dd6b-4575-b246-3da7153f37fe",
   "metadata": {
    "scrolled": true
   },
   "outputs": [
    {
     "name": "stderr",
     "output_type": "stream",
     "text": [
      "Data is loading...: 100%|███████████████████████████████████████████████████████████| 840/840 [00:02<00:00, 344.93it/s]\n"
     ]
    }
   ],
   "source": [
    "from data_loader_mat import load_data\n",
    "\n",
    "main_directory = r'E:\\Coding\\Jupyter_files\\ECG_2\\Data_saves\\Selected_data\\ptb'\n",
    "loaded_data = load_data(main_directory)"
   ]
  },
  {
   "cell_type": "code",
   "execution_count": 4,
   "id": "398f4878-b78f-45df-ad42-6213ab8a5349",
   "metadata": {},
   "outputs": [
    {
     "name": "stderr",
     "output_type": "stream",
     "text": [
      "Downsampling signals: 100%|██████████████████████████████████████████████████████████| 420/420 [00:23<00:00, 18.08it/s]\n"
     ]
    }
   ],
   "source": [
    "desired_sampling_rate = 500\n",
    "\n",
    "# Function to downsample the signal data\n",
    "def downsample_signal(signal_data, current_sampling_rate, desired_sampling_rate):\n",
    "    resampled_signals = []\n",
    "    for channel in signal_data:\n",
    "        resampled_channel = nk.signal_resample(channel, sampling_rate=current_sampling_rate, desired_sampling_rate=desired_sampling_rate)\n",
    "        resampled_signals.append(resampled_channel)\n",
    "    return np.array(resampled_signals)\n",
    "\n",
    "\n",
    "current_sampling_rate = 1000\n",
    "downsampled_data_dict = {}\n",
    "\n",
    "\n",
    "progress_bar = tqdm(total=len(loaded_data), desc=\"Downsampling signals\")\n",
    "\n",
    "\n",
    "for filename, data in loaded_data.items():\n",
    "    if isinstance(data, dict) and 'val' in data:\n",
    "        signal_data = data['val']\n",
    "        downsampled_signal = downsample_signal(signal_data, current_sampling_rate, desired_sampling_rate)\n",
    "        downsampled_signal = downsampled_signal.astype(np.int16)\n",
    "        downsampled_data_dict[filename] = {'val': downsampled_signal}\n",
    "    progress_bar.update(1)\n",
    "\n",
    "progress_bar.close()"
   ]
  },
  {
   "cell_type": "code",
   "execution_count": 5,
   "id": "87f06952-4e5d-4552-8365-e36c198680a9",
   "metadata": {},
   "outputs": [
    {
     "name": "stderr",
     "output_type": "stream",
     "text": [
      "Saving files...: 100%|██████████████████████████████████████████████████████████████| 420/420 [00:01<00:00, 326.25it/s]"
     ]
    },
    {
     "name": "stdout",
     "output_type": "stream",
     "text": [
      "Data saved to directory successfully.\n"
     ]
    },
    {
     "name": "stderr",
     "output_type": "stream",
     "text": [
      "\n"
     ]
    }
   ],
   "source": [
    "from data_saver import data_saver_v1\n",
    "output_directory = r'E:\\Coding\\Jupyter_files\\ECG_2\\Data_saves\\Resampled_data\\ptb'\n",
    "data_saver_v1(downsampled_data_dict, output_directory)"
   ]
  }
 ],
 "metadata": {
  "kernelspec": {
   "display_name": "Python 3 (ipykernel)",
   "language": "python",
   "name": "python3"
  },
  "language_info": {
   "codemirror_mode": {
    "name": "ipython",
    "version": 3
   },
   "file_extension": ".py",
   "mimetype": "text/x-python",
   "name": "python",
   "nbconvert_exporter": "python",
   "pygments_lexer": "ipython3",
   "version": "3.11.7"
  }
 },
 "nbformat": 4,
 "nbformat_minor": 5
}
