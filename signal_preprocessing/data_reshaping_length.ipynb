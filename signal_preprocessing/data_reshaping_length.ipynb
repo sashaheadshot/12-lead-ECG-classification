{
 "cells": [
  {
   "cell_type": "code",
   "execution_count": 1,
   "id": "0dd84838-1b92-41f4-80a9-773c970a52fc",
   "metadata": {},
   "outputs": [],
   "source": [
    "import os\n",
    "import scipy.io as sio\n",
    "import numpy as np\n",
    "from tqdm import tqdm"
   ]
  },
  {
   "cell_type": "code",
   "execution_count": 2,
   "id": "471fdb08-8a60-4dc8-b247-ef2154150634",
   "metadata": {},
   "outputs": [
    {
     "name": "stderr",
     "output_type": "stream",
     "text": [
      "Processing Files: 24246 files [01:37, 248.37 files/s]"
     ]
    },
    {
     "name": "stdout",
     "output_type": "stream",
     "text": [
      "Files saved to E:\\Coding\\Jupyter_files\\ECG_2\\Data_saves\\Reshaped_data_length\n"
     ]
    },
    {
     "name": "stderr",
     "output_type": "stream",
     "text": [
      "\n"
     ]
    }
   ],
   "source": [
    "data_directory = 'E:\\\\Coding\\\\Jupyter_files\\\\ECG_2\\\\Data_saves\\\\Resampled_data'\n",
    "filtered_data_directory = 'E:\\\\Coding\\\\Jupyter_files\\\\ECG_2\\\\Data_saves\\\\Reshaped_data_length'\n",
    "\n",
    "os.makedirs(filtered_data_directory, exist_ok=True)\n",
    "\n",
    "# Function to resize signals\n",
    "def resize_signal(signal):\n",
    "    if signal.shape[1] > 5000:\n",
    "        resized_signal = signal[:, :5000]\n",
    "    elif signal.shape[1] < 5000:\n",
    "        pad_width = 5000 - signal.shape[1]\n",
    "        resized_signal = np.pad(signal, ((0, 0), (0, pad_width)), mode='constant')\n",
    "    else:\n",
    "        resized_signal = signal\n",
    "    return resized_signal\n",
    "\n",
    "\n",
    "def process_files(root_directory, output_directory):\n",
    "\n",
    "    pbar = tqdm(desc=\"Processing Files\", unit=\" files\")\n",
    "    for root, dirs, files in os.walk(root_directory):\n",
    "        for file in files:\n",
    "            if file.endswith('.mat'):\n",
    "                try:\n",
    "                    mat_path = os.path.join(root, file)\n",
    "                    relative_path = os.path.relpath(mat_path, root_directory)\n",
    "                    filtered_mat_path = os.path.join(output_directory, relative_path)\n",
    "\n",
    "                    os.makedirs(os.path.dirname(filtered_mat_path), exist_ok=True)\n",
    "\n",
    "                    mat_data = sio.loadmat(mat_path)\n",
    "                    if 'val' in mat_data:\n",
    "                        resized_val = resize_signal(mat_data['val'])\n",
    "                        mat_data['val'] = resized_val\n",
    "\n",
    "                        sio.savemat(filtered_mat_path, mat_data)\n",
    "\n",
    "                    else:\n",
    "                        print(f\"'val' not found in {file}\")\n",
    "\n",
    "                except Exception as e:\n",
    "                    print(f\"Error processing {file}: {str(e)}\")\n",
    "\n",
    "                pbar.update(1)\n",
    "\n",
    "    pbar.close()\n",
    "    print(f\"Files saved to {filtered_data_directory}\")\n",
    "\n",
    "process_files(data_directory, filtered_data_directory)"
   ]
  },
  {
   "cell_type": "code",
   "execution_count": 8,
   "id": "7b9c8292-ae8d-4b53-bd9c-1d57010a3320",
   "metadata": {},
   "outputs": [
    {
     "name": "stdout",
     "output_type": "stream",
     "text": [
      "(12, 5000)\n"
     ]
    }
   ],
   "source": [
    "import scipy.io\n",
    "\n",
    "data = scipy.io.loadmat(r'E:\\Coding\\Jupyter_files\\ECG_2\\Data_saves\\Reshaped_data_length\\cpsc_2018\\g1\\A0030.mat')\n",
    "signal = data['val']\n",
    "print(signal.shape)"
   ]
  },
  {
   "cell_type": "code",
   "execution_count": null,
   "id": "0896a40f-0118-46f0-a7f8-4ca561815d87",
   "metadata": {},
   "outputs": [],
   "source": []
  }
 ],
 "metadata": {
  "kernelspec": {
   "display_name": "Python 3 (ipykernel)",
   "language": "python",
   "name": "python3"
  },
  "language_info": {
   "codemirror_mode": {
    "name": "ipython",
    "version": 3
   },
   "file_extension": ".py",
   "mimetype": "text/x-python",
   "name": "python",
   "nbconvert_exporter": "python",
   "pygments_lexer": "ipython3",
   "version": "3.11.7"
  }
 },
 "nbformat": 4,
 "nbformat_minor": 5
}
